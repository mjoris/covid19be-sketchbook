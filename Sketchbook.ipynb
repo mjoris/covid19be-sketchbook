{
 "cells": [
  {
   "cell_type": "code",
   "execution_count": 21,
   "metadata": {},
   "outputs": [
    {
     "data": {
      "image/png": "[encoded data removed]",
      "text/plain": [
       "<Figure size 432x288 with 1 Axes>"
      ]
     },
     "metadata": {
      "needs_background": "light"
     },
     "output_type": "display_data"
    }
   ],
   "source": [
    "import pandas as pd;\n",
    "import matplotlib.pyplot as plt;\n",
    "\n",
    "# https://epistat.wiv-isp.be/covid/\n",
    "# Load \"Hospitalisations by date and provinces\" (c) Sciensano\n",
    "hospitalisations = pd.read_csv('https://epistat.sciensano.be/Data/COVID19BE_HOSP.csv')  \n",
    "\n",
    "hospfla = hospitalisations.query('REGION == \"Flanders\"').groupby(by=\"DATE\")\n",
    "totalwithouticu = (hospfla['TOTAL_IN'].sum()-hospfla['TOTAL_IN_ICU'].sum())\n",
    "\n",
    "totalincu = hospfla['TOTAL_IN_ICU'].sum()\n",
    "\n",
    "p1 = plt.bar(totalwithouticu.index, totalwithouticu.values)\n",
    "plt.bar(totalincu.index, totalincu.values, bottom=totalwithouticu.values)\n",
    "\n",
    "#plt.ylabel('Scores')\n",
    "#plt.title('Scores by group and gender')\n",
    "#plt.xticks(ind, ('G1', 'G2', 'G3', 'G4', 'G5'))\n",
    "#plt.yticks(np.arange(0, 81, 10))\n",
    "#plt.legend((p1[0], p2[0]), ('Men', 'Women'))\n",
    "\n",
    "plt.show()\n"
   ]
  },
  {
   "cell_type": "code",
   "execution_count": null,
   "metadata": {},
   "outputs": [],
   "source": []
  }
 ],
 "metadata": {
  "kernelspec": {
   "display_name": "Python 3",
   "language": "python",
   "name": "python3"
  },
  "language_info": {
   "codemirror_mode": {
    "name": "ipython",
    "version": 3
   },
   "file_extension": ".py",
   "mimetype": "text/x-python",
   "name": "python",
   "nbconvert_exporter": "python",
   "pygments_lexer": "ipython3",
   "version": "3.7.1"
  }
 },
 "nbformat": 4,
 "nbformat_minor": 2
}
