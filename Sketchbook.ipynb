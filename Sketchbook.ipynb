{
 "cells": [
  {
   "cell_type": "code",
   "execution_count": 17,
   "metadata": {},
   "outputs": [
    {
     "data": {
      "text/html": [
       "<iframe\n",
       "    scrolling=\"no\"\n",
       "    width=\"100%\"\n",
       "    height=\"545px\"\n",
       "    src=\"iframe_figures/figure_17.html\"\n",
       "    frameborder=\"0\"\n",
       "    allowfullscreen\n",
       "></iframe>\n"
      ]
     },
     "metadata": {},
     "output_type": "display_data"
    }
   ],
   "source": [
    "import pandas as pd;\n",
    "import plotly.graph_objects as go\n",
    "\n",
    "# https://epistat.wiv-isp.be/covid/\n",
    "# Load \"Hospitalisations by date and provinces\" (c) Sciensano\n",
    "hospitalisations = pd.read_csv('https://epistat.sciensano.be/Data/COVID19BE_HOSP.csv')  \n",
    "\n",
    "hospfla = hospitalisations.query('REGION == \"Flanders\"').groupby(by=\"DATE\")\n",
    "totalwithouticu = (hospfla['TOTAL_IN'].sum()-hospfla['TOTAL_IN_ICU'].sum())\n",
    "\n",
    "totalincu = hospfla['TOTAL_IN_ICU'].sum()\n",
    "\n",
    "fig = go.Figure( data=[\n",
    "    go.Bar(name='Totaal niet-intensieve zorg', x=totalwithouticu.index, y=totalwithouticu.values),\n",
    "    go.Bar(name='Totaal intensieve zorg', x=totalincu.index, y=totalincu.values)\n",
    "])\n",
    "# Change the bar mode\n",
    "fig.update_layout(barmode='stack',title='Covid-19 hospitalisaties in Vlaanderen')\n",
    "fig.show(renderer=\"iframe\")\n"
   ]
  },
  {
   "cell_type": "code",
   "execution_count": null,
   "metadata": {},
   "outputs": [],
   "source": []
  }
 ],
 "metadata": {
  "kernelspec": {
   "display_name": "Python 3",
   "language": "python",
   "name": "python3"
  },
  "language_info": {
   "codemirror_mode": {
    "name": "ipython",
    "version": 3
   },
   "file_extension": ".py",
   "mimetype": "text/x-python",
   "name": "python",
   "nbconvert_exporter": "python",
   "pygments_lexer": "ipython3",
   "version": "3.7.1"
  }
 },
 "nbformat": 4,
 "nbformat_minor": 2
}
